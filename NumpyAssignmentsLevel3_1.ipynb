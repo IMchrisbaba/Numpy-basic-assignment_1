{
 "cells": [
  {
   "cell_type": "raw",
   "id": "d4fe0a4b",
   "metadata": {},
   "source": [
    "Assignment 1\n",
    "1. Generate an np array of (a) vector of lenght 50 (b) two dimension of shape 5x4. Both uniformly distributed between 0 and 1\n",
    "2. Split the two dimension array in 1 above into three arrays taking the first two rows, follow by the next two rows and put the remaining row in another variable\n",
    "3. Split the vector into in 1 above three arrays by taking the first 15, follow by the next 20 and the remaining into another variable.\n",
    "4. Create a 4x5 array: (a). Using manual method (b). Using randomly generated value between 0 and 1 (c). Using array of ones"
   ]
  },
  {
   "cell_type": "code",
   "execution_count": null,
   "id": "07517c83",
   "metadata": {},
   "outputs": [],
   "source": []
  },
  {
   "cell_type": "code",
   "execution_count": 1,
   "id": "b715a6be",
   "metadata": {},
   "outputs": [],
   "source": [
    "import numpy as np"
   ]
  },
  {
   "cell_type": "code",
   "execution_count": 2,
   "id": "e9bbf247",
   "metadata": {},
   "outputs": [
    {
     "data": {
      "text/plain": [
       "array([ 0,  1,  2,  3,  4,  5,  6,  7,  8,  9, 10, 11, 12, 13, 14, 15, 16,\n",
       "       17, 18, 19, 20, 21, 22, 23, 24, 25, 26, 27, 28, 29, 30, 31, 32, 33,\n",
       "       34, 35, 36, 37, 38, 39, 40, 41, 42, 43, 44, 45, 46, 47, 48, 49])"
      ]
     },
     "execution_count": 2,
     "metadata": {},
     "output_type": "execute_result"
    }
   ],
   "source": [
    "# Generate an np array of (a) vector of lenght 50\n",
    "ma = np.arange(50)\n",
    "ma"
   ]
  },
  {
   "cell_type": "code",
   "execution_count": 3,
   "id": "12d380a1",
   "metadata": {},
   "outputs": [
    {
     "name": "stdout",
     "output_type": "stream",
     "text": [
      "The Two Dimension Array of 5x4 Uniformly Distributed btw 0 & 1 are :\n",
      " [[0.71362363 0.57864177 0.62272892 0.58171783]\n",
      " [0.04873588 0.19534599 0.79619344 0.48209466]\n",
      " [0.4257564  0.60433233 0.22508787 0.66629841]\n",
      " [0.03929161 0.67777723 0.1756855  0.60731778]\n",
      " [0.24478428 0.68569193 0.9060966  0.67378939]]\n"
     ]
    }
   ],
   "source": [
    "# (b) two dimension of shape 5x4. Both uniformly distributed between 0 and 1\n",
    "mb = np.random.random((5,4))\n",
    "print('The Two Dimension Array of 5x4 Uniformly Distributed btw 0 & 1 are :\\n',mb)"
   ]
  },
  {
   "cell_type": "code",
   "execution_count": 4,
   "id": "9acc6a47",
   "metadata": {},
   "outputs": [
    {
     "name": "stdout",
     "output_type": "stream",
     "text": [
      "The 1st array is:\n",
      " [[0.71362363 0.57864177 0.62272892 0.58171783]\n",
      " [0.04873588 0.19534599 0.79619344 0.48209466]] \n",
      "\n",
      "The 2nd array is:\n",
      " [[0.4257564  0.60433233 0.22508787 0.66629841]\n",
      " [0.03929161 0.67777723 0.1756855  0.60731778]] \n",
      "\n",
      "The 3rd array is:\n",
      " [[0.24478428 0.68569193 0.9060966  0.67378939]] \n",
      "\n"
     ]
    }
   ],
   "source": [
    "# 2. Split the two dimension array in 1 above into three arrays taking the first two rows, \n",
    "# follow by the next two rows and put the remaining row in another variable\n",
    "\n",
    "i_array, ii_array, iii_array = np.vsplit(mb,[2,4])\n",
    "print(\"The 1st array is:\\n\", i_array,\"\\n\") \n",
    "\n",
    "print(\"The 2nd array is:\\n\", ii_array,\"\\n\")\n",
    "\n",
    "print(\"The 3rd array is:\\n\", iii_array,\"\\n\")\n"
   ]
  },
  {
   "cell_type": "code",
   "execution_count": 5,
   "id": "2ebcced7",
   "metadata": {},
   "outputs": [
    {
     "name": "stdout",
     "output_type": "stream",
     "text": [
      "The 1st 15 arrays are:\n",
      " [[0.71362363 0.57864177 0.62272892 0.58171783]\n",
      " [0.04873588 0.19534599 0.79619344 0.48209466]\n",
      " [0.4257564  0.60433233 0.22508787 0.66629841]\n",
      " [0.03929161 0.67777723 0.1756855  0.60731778]\n",
      " [0.24478428 0.68569193 0.9060966  0.67378939]] \n",
      "\n",
      "The next 20 arrays are:\n",
      " [] \n",
      "\n",
      "The Remaining arrays are:\n",
      " [] \n",
      "\n"
     ]
    }
   ],
   "source": [
    "# 3. Split the vector  in 1a above into three arrays by taking the first 15, \n",
    "# follow by the next 20 and the remaining into another variable.\n",
    "array1, array2, array3 = np.split(mb,(15,35))\n",
    "\n",
    "print(\"The 1st 15 arrays are:\\n\", array1,\"\\n\") \n",
    "\n",
    "print(\"The next 20 arrays are:\\n\", array2,\"\\n\")\n",
    "\n",
    "print(\"The Remaining arrays are:\\n\", array3,\"\\n\")"
   ]
  },
  {
   "cell_type": "code",
   "execution_count": 10,
   "id": "ee61a8e5",
   "metadata": {},
   "outputs": [
    {
     "data": {
      "text/plain": [
       "array([[1, 1, 1, 1, 1],\n",
       "       [3, 3, 3, 3, 3],\n",
       "       [2, 2, 2, 2, 2],\n",
       "       [4, 4, 4, 4, 4]])"
      ]
     },
     "execution_count": 10,
     "metadata": {},
     "output_type": "execute_result"
    }
   ],
   "source": [
    "# 4a. Create a 4x5 array: (a). Using manual method (b). Using randomly generated value between 0 and 1 (c). Using array of ones\n",
    "\n",
    "np.array([[1,1,1,1,1],[3,3,3,3,3],[2,2,2,2,2],[4,4,4,4,4]])"
   ]
  },
  {
   "cell_type": "code",
   "execution_count": 12,
   "id": "f76b00e0",
   "metadata": {},
   "outputs": [
    {
     "data": {
      "text/plain": [
       "array([[0.0681016 , 0.86025547, 0.88059701, 0.06478923, 0.72087461],\n",
       "       [0.36832643, 0.55538279, 0.73530934, 0.70843285, 0.3528773 ],\n",
       "       [0.29651905, 0.46341451, 0.46585703, 0.30213557, 0.40488468],\n",
       "       [0.11074743, 0.7995893 , 0.84624304, 0.18472899, 0.87046955]])"
      ]
     },
     "execution_count": 12,
     "metadata": {},
     "output_type": "execute_result"
    }
   ],
   "source": [
    "#4b. Create a 4x5 array: (b). Using randomly generated value between 0 and 1 \n",
    "np.random.random((4,5))"
   ]
  },
  {
   "cell_type": "code",
   "execution_count": 6,
   "id": "275cfb69",
   "metadata": {},
   "outputs": [
    {
     "data": {
      "text/plain": [
       "array([[1, 1, 1, 1, 1],\n",
       "       [1, 1, 1, 1, 1],\n",
       "       [1, 1, 1, 1, 1],\n",
       "       [1, 1, 1, 1, 1]])"
      ]
     },
     "execution_count": 6,
     "metadata": {},
     "output_type": "execute_result"
    }
   ],
   "source": [
    "# 4. Create a 4x5 array:(c). Using array of ones\n",
    "np.ones([4,5], dtype=int)"
   ]
  },
  {
   "cell_type": "code",
   "execution_count": null,
   "id": "c083ef79",
   "metadata": {},
   "outputs": [],
   "source": []
  }
 ],
 "metadata": {
  "kernelspec": {
   "display_name": "Python 3",
   "language": "python",
   "name": "python3"
  },
  "language_info": {
   "codemirror_mode": {
    "name": "ipython",
    "version": 3
   },
   "file_extension": ".py",
   "mimetype": "text/x-python",
   "name": "python",
   "nbconvert_exporter": "python",
   "pygments_lexer": "ipython3",
   "version": "3.8.8"
  }
 },
 "nbformat": 4,
 "nbformat_minor": 5
}
